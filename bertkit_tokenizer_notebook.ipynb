{
 "cells": [
  {
   "cell_type": "markdown",
   "id": "05b977ff",
   "metadata": {},
   "source": [
    "### The original HF BERT tokenizer"
   ]
  },
  {
   "cell_type": "code",
   "execution_count": null,
   "id": "7f5b8dfa",
   "metadata": {},
   "outputs": [],
   "source": [
    "# if necessary:\n",
    "# !pip install transfomers\n",
    "\n",
    "from transformers import BertTokenizer\n",
    "model_name = 'bert-base-uncased'\n",
    "hf_tokenizer = BertTokenizer.from_pretrained(model_name)\n",
    "\n",
    "texts = [\"Hello, I am BERT\",\n",
    "         \"Semantic embeddings are an important concept and serve as a basis for information retrieval\",\n",
    "         \"Some fruits are bananas, oranges, pineapples, strawberries\"]\n",
    "hf_tokenizer(texts, return_tensors='pt', padding=True, truncation=True, max_length=512)"
   ]
  },
  {
   "cell_type": "markdown",
   "id": "ce1c1671",
   "metadata": {},
   "source": [
    "### The decoupled BERTKit tokenizer"
   ]
  },
  {
   "cell_type": "code",
   "execution_count": null,
   "id": "b40d8cb8",
   "metadata": {},
   "outputs": [],
   "source": [
    "from bertkit_tokenizer.bertkit_tokenizer import BertKitTokenizer"
   ]
  },
  {
   "cell_type": "code",
   "execution_count": null,
   "id": "3e59ab51",
   "metadata": {},
   "outputs": [],
   "source": [
    "bk_tokenizer = BertKitTokenizer(\"./bertkit_tokenizer/vocab.txt\")"
   ]
  },
  {
   "cell_type": "code",
   "execution_count": null,
   "id": "bdaf54f8",
   "metadata": {},
   "outputs": [],
   "source": [
    "bk_tokenizer.tokenize(texts)"
   ]
  },
  {
   "cell_type": "markdown",
   "id": "8c12039c",
   "metadata": {},
   "source": [
    "### Systematic tokenizer comparison for identical returns, done on a Gutenberg text containing also French with accents."
   ]
  },
  {
   "cell_type": "code",
   "execution_count": null,
   "id": "cdb3945d",
   "metadata": {},
   "outputs": [],
   "source": [
    "with open(\"./bertkit_tokenizer/gutenberg_text.txt\", \"r\") as f:\n",
    "    text = f.readlines()"
   ]
  },
  {
   "cell_type": "code",
   "execution_count": null,
   "id": "661a74f0",
   "metadata": {},
   "outputs": [],
   "source": [
    "import torch\n",
    "def dicts_equal(d1, d2):\n",
    "    if d1.keys() != d2.keys():\n",
    "        return False\n",
    "    return all(torch.equal(d1[k], d2[k]) for k in d1.keys())"
   ]
  },
  {
   "cell_type": "code",
   "execution_count": null,
   "id": "94bcf633",
   "metadata": {},
   "outputs": [],
   "source": [
    "for n, sentence in enumerate(text):\n",
    "    if n%5000 == 0 and n>0:    \n",
    "        print(f\"{n} sentence samples tested for identical tokenization\")\n",
    "    output_hf = hf_tokenizer(sentence, return_tensors='pt', padding=True, truncation=True)\n",
    "    output_bk = bk_tokenizer.tokenize(sentence)\n",
    "    assert dicts_equal(output_hf,output_bk)\n",
    "print(f\"all {n} samples ok.\")"
   ]
  },
  {
   "cell_type": "code",
   "execution_count": null,
   "id": "e84182d7",
   "metadata": {},
   "outputs": [],
   "source": []
  }
 ],
 "metadata": {
  "kernelspec": {
   "display_name": "Python 3 (ipykernel)",
   "language": "python",
   "name": "python3"
  },
  "language_info": {
   "codemirror_mode": {
    "name": "ipython",
    "version": 3
   },
   "file_extension": ".py",
   "mimetype": "text/x-python",
   "name": "python",
   "nbconvert_exporter": "python",
   "pygments_lexer": "ipython3",
   "version": "3.10.12"
  }
 },
 "nbformat": 4,
 "nbformat_minor": 5
}
